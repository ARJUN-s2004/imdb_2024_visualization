{
 "cells": [
  {
   "cell_type": "code",
   "execution_count": 26,
   "metadata": {},
   "outputs": [
    {
     "name": "stderr",
     "output_type": "stream",
     "text": [
      "C:\\Users\\Arjun\\AppData\\Local\\Temp\\ipykernel_7504\\4268421567.py:17: UserWarning:\n",
      "\n",
      "pandas only supports SQLAlchemy connectable (engine/connection) or database string URI or sqlite3 DBAPI2 connection. Other DBAPI2 objects are not tested. Please consider using SQLAlchemy.\n",
      "\n"
     ]
    }
   ],
   "source": [
    "import streamlit as st\n",
    "import pandas as pd\n",
    "import plotly.express as px\n",
    "import plotly.graph_objects as go\n",
    "import pymysql\n",
    "import matplotlib.pyplot as plt\n",
    "\n",
    "connection = pymysql.connect(\n",
    "    host=\"gateway01.ap-southeast-1.prod.aws.tidbcloud.com\",\n",
    "    port=4000,\n",
    "    user=\"4HbKbrAWUhJxmRf.root\",\n",
    "    password=\"Cv0NKG96bWzF4um2\",\n",
    "    database=\"IMDB\",\n",
    "    ssl={\"ca\": r\"C:\\Users\\Arjun\\OneDrive\\Desktop\\guvi\\isrgrootx1.pem\"}\n",
    ")\n",
    "query = \"SELECT * FROM Imdb_2024_cleaned\"\n",
    "df = pd.read_sql(query, connection)\n",
    "df.drop_duplicates(subset=[\"title\"], keep=\"first\", inplace=True)"
   ]
  },
  {
   "cell_type": "code",
   "execution_count": 27,
   "metadata": {},
   "outputs": [
    {
     "name": "stdout",
     "output_type": "stream",
     "text": [
      "                                           title  rating   votes      genre\n",
      "45    Attack on Titan the Movie: The Last Attack     9.3   14000     action\n",
      "4                                 Dune: Part Two     8.5  612000     action\n",
      "5207                                  The Keeper     8.5   12000      drama\n",
      "1536                              I'm Still Here     8.4   94000  biography\n",
      "60                                      Maharaja     8.4   65000     action\n",
      "5101                                 Meiyazhagan     8.4   13000      drama\n",
      "1296                              The Wild Robot     8.2  151000  animation\n",
      "969                               Manjummel Boys     8.2   27000  adventure\n",
      "101                                       Amaran     8.2   18000     action\n",
      "1322               The Remarkable Life of Ibelin     8.2   12000  animation\n"
     ]
    }
   ],
   "source": [
    "# Filter movies with more than 5000 votes\n",
    "popular_movies = df[df[\"votes\"] > 10000]\n",
    "\n",
    "# Drop duplicate movie titles (keeping the highest-rated entry)\n",
    "popular_movies = popular_movies.sort_values(by=[\"rating\", \"votes\"], ascending=[False, False])\n",
    "popular_movies = popular_movies.drop_duplicates(subset=[\"title\"], keep=\"first\")\n",
    "\n",
    "# Select the top 10 unique movies\n",
    "top_10_movies = popular_movies.head(10)\n",
    "\n",
    "# Display the results\n",
    "print(top_10_movies[[\"title\", \"rating\", \"votes\",\"genre\"]])\n"
   ]
  },
  {
   "cell_type": "code",
   "execution_count": 28,
   "metadata": {},
   "outputs": [
    {
     "data": {
      "text/plain": [
       "(6871, 5)"
      ]
     },
     "execution_count": 28,
     "metadata": {},
     "output_type": "execute_result"
    }
   ],
   "source": [
    "df.shape"
   ]
  },
  {
   "cell_type": "code",
   "execution_count": 29,
   "metadata": {},
   "outputs": [
    {
     "name": "stdout",
     "output_type": "stream",
     "text": [
      "Top 10 Movies by Rating and Voting Counts\n",
      "                                title  rating  votes\n",
      "664                           Vorovka    10.0     34\n",
      "7821                            Chum!    10.0     34\n",
      "8636                           Dindin    10.0     34\n",
      "4645                Going to the Dogs    10.0      9\n",
      "4565                Trilogy: New Wave     9.9     59\n",
      "4473                 Microphone Check     9.9     35\n",
      "3717                 Biohack Yourself     9.9     17\n",
      "4432                       Silverback     9.9     15\n",
      "6724                           Jíkuri     9.9     10\n",
      "4457  A Radical Act: Renee Montgomery     9.9      9\n"
     ]
    }
   ],
   "source": [
    "# Top 10 Movies by Rating and Voting Counts\n",
    "top_10_movies = df.sort_values(by=[\"rating\", \"votes\"], ascending=[False, False]).head(10)\n",
    "print(\"Top 10 Movies by Rating and Voting Counts\")\n",
    "print(top_10_movies[[\"title\", \"rating\", \"votes\"]])"
   ]
  },
  {
   "cell_type": "code",
   "execution_count": 34,
   "metadata": {},
   "outputs": [],
   "source": [
    "# Genre Distribution\n",
    "genre_counts = df['genre'].value_counts()\n",
    "fig_genre = px.bar(genre_counts, x=genre_counts.index, y=genre_counts.values, labels={'x': 'Genre', 'y': 'Count'}, title=\"Movies per Genre\")\n",
    "fig_genre.show(renderer=\"browser\")"
   ]
  },
  {
   "cell_type": "code",
   "execution_count": 36,
   "metadata": {},
   "outputs": [],
   "source": [
    "# Average Duration by Genre\n",
    "fig = px.bar(df.groupby(\"genre\")[\"duration\"].mean().sort_values().reset_index(), \n",
    "             x=\"duration\", y=\"genre\", orientation=\"h\")\n",
    "fig.show(renderer=\"browser\")\n"
   ]
  },
  {
   "cell_type": "code",
   "execution_count": null,
   "metadata": {},
   "outputs": [],
   "source": [
    "# Voting Trends by Genre\n",
    "fig = px.bar(df.groupby(\"genre\")[\"votes\"].mean().sort_values().reset_index(), x=\"genre\", y=\"votes\")\n",
    "fig.show()"
   ]
  },
  {
   "cell_type": "code",
   "execution_count": 37,
   "metadata": {},
   "outputs": [
    {
     "name": "stdout",
     "output_type": "stream",
     "text": [
      "Top 10 Movies by Rating and Voting Counts\n",
      "                                title  rating  votes\n",
      "664                           Vorovka    10.0     34\n",
      "7821                            Chum!    10.0     34\n",
      "8636                           Dindin    10.0     34\n",
      "4645                Going to the Dogs    10.0      9\n",
      "4565                Trilogy: New Wave     9.9     59\n",
      "4473                 Microphone Check     9.9     35\n",
      "3717                 Biohack Yourself     9.9     17\n",
      "4432                       Silverback     9.9     15\n",
      "6724                           Jíkuri     9.9     10\n",
      "4457  A Radical Act: Renee Montgomery     9.9      9\n"
     ]
    },
    {
     "ename": "ValueError",
     "evalue": "Mime type rendering requires nbformat>=4.2.0 but it is not installed",
     "output_type": "error",
     "traceback": [
      "\u001b[1;31m---------------------------------------------------------------------------\u001b[0m",
      "\u001b[1;31mValueError\u001b[0m                                Traceback (most recent call last)",
      "Cell \u001b[1;32mIn[37], line 16\u001b[0m\n\u001b[0;32m     14\u001b[0m genre_counts \u001b[38;5;241m=\u001b[39m df[\u001b[38;5;124m'\u001b[39m\u001b[38;5;124mgenre\u001b[39m\u001b[38;5;124m'\u001b[39m]\u001b[38;5;241m.\u001b[39mvalue_counts()\n\u001b[0;32m     15\u001b[0m fig_genre \u001b[38;5;241m=\u001b[39m px\u001b[38;5;241m.\u001b[39mbar(genre_counts, x\u001b[38;5;241m=\u001b[39mgenre_counts\u001b[38;5;241m.\u001b[39mindex, y\u001b[38;5;241m=\u001b[39mgenre_counts\u001b[38;5;241m.\u001b[39mvalues, labels\u001b[38;5;241m=\u001b[39m{\u001b[38;5;124m'\u001b[39m\u001b[38;5;124mx\u001b[39m\u001b[38;5;124m'\u001b[39m: \u001b[38;5;124m'\u001b[39m\u001b[38;5;124mGenre\u001b[39m\u001b[38;5;124m'\u001b[39m, \u001b[38;5;124m'\u001b[39m\u001b[38;5;124my\u001b[39m\u001b[38;5;124m'\u001b[39m: \u001b[38;5;124m'\u001b[39m\u001b[38;5;124mCount\u001b[39m\u001b[38;5;124m'\u001b[39m}, title\u001b[38;5;241m=\u001b[39m\u001b[38;5;124m\"\u001b[39m\u001b[38;5;124mMovies per Genre\u001b[39m\u001b[38;5;124m\"\u001b[39m)\n\u001b[1;32m---> 16\u001b[0m \u001b[43mfig_genre\u001b[49m\u001b[38;5;241;43m.\u001b[39;49m\u001b[43mshow\u001b[49m\u001b[43m(\u001b[49m\u001b[43m)\u001b[49m\n\u001b[0;32m     18\u001b[0m \u001b[38;5;66;03m# Average Duration by Genre\u001b[39;00m\n\u001b[0;32m     19\u001b[0m fig \u001b[38;5;241m=\u001b[39m px\u001b[38;5;241m.\u001b[39mbar(df\u001b[38;5;241m.\u001b[39mgroupby(\u001b[38;5;124m\"\u001b[39m\u001b[38;5;124mgenre\u001b[39m\u001b[38;5;124m\"\u001b[39m)[\u001b[38;5;124m\"\u001b[39m\u001b[38;5;124mduration\u001b[39m\u001b[38;5;124m\"\u001b[39m]\u001b[38;5;241m.\u001b[39mmean()\u001b[38;5;241m.\u001b[39msort_values()\u001b[38;5;241m.\u001b[39mreset_index(), \n\u001b[0;32m     20\u001b[0m              x\u001b[38;5;241m=\u001b[39m\u001b[38;5;124m\"\u001b[39m\u001b[38;5;124mduration\u001b[39m\u001b[38;5;124m\"\u001b[39m, y\u001b[38;5;241m=\u001b[39m\u001b[38;5;124m\"\u001b[39m\u001b[38;5;124mgenre\u001b[39m\u001b[38;5;124m\"\u001b[39m, orientation\u001b[38;5;241m=\u001b[39m\u001b[38;5;124m\"\u001b[39m\u001b[38;5;124mh\u001b[39m\u001b[38;5;124m\"\u001b[39m)\n",
      "File \u001b[1;32mc:\\Users\\Arjun\\AppData\\Local\\Programs\\Python\\Python312\\Lib\\site-packages\\plotly\\basedatatypes.py:3410\u001b[0m, in \u001b[0;36mBaseFigure.show\u001b[1;34m(self, *args, **kwargs)\u001b[0m\n\u001b[0;32m   3377\u001b[0m \u001b[38;5;250m\u001b[39m\u001b[38;5;124;03m\"\"\"\u001b[39;00m\n\u001b[0;32m   3378\u001b[0m \u001b[38;5;124;03mShow a figure using either the default renderer(s) or the renderer(s)\u001b[39;00m\n\u001b[0;32m   3379\u001b[0m \u001b[38;5;124;03mspecified by the renderer argument\u001b[39;00m\n\u001b[1;32m   (...)\u001b[0m\n\u001b[0;32m   3406\u001b[0m \u001b[38;5;124;03mNone\u001b[39;00m\n\u001b[0;32m   3407\u001b[0m \u001b[38;5;124;03m\"\"\"\u001b[39;00m\n\u001b[0;32m   3408\u001b[0m \u001b[38;5;28;01mimport\u001b[39;00m \u001b[38;5;21;01mplotly\u001b[39;00m\u001b[38;5;21;01m.\u001b[39;00m\u001b[38;5;21;01mio\u001b[39;00m \u001b[38;5;28;01mas\u001b[39;00m \u001b[38;5;21;01mpio\u001b[39;00m\n\u001b[1;32m-> 3410\u001b[0m \u001b[38;5;28;01mreturn\u001b[39;00m \u001b[43mpio\u001b[49m\u001b[38;5;241;43m.\u001b[39;49m\u001b[43mshow\u001b[49m\u001b[43m(\u001b[49m\u001b[38;5;28;43mself\u001b[39;49m\u001b[43m,\u001b[49m\u001b[43m \u001b[49m\u001b[38;5;241;43m*\u001b[39;49m\u001b[43margs\u001b[49m\u001b[43m,\u001b[49m\u001b[43m \u001b[49m\u001b[38;5;241;43m*\u001b[39;49m\u001b[38;5;241;43m*\u001b[39;49m\u001b[43mkwargs\u001b[49m\u001b[43m)\u001b[49m\n",
      "File \u001b[1;32mc:\\Users\\Arjun\\AppData\\Local\\Programs\\Python\\Python312\\Lib\\site-packages\\plotly\\io\\_renderers.py:394\u001b[0m, in \u001b[0;36mshow\u001b[1;34m(fig, renderer, validate, **kwargs)\u001b[0m\n\u001b[0;32m    389\u001b[0m         \u001b[38;5;28;01mraise\u001b[39;00m \u001b[38;5;167;01mValueError\u001b[39;00m(\n\u001b[0;32m    390\u001b[0m             \u001b[38;5;124m\"\u001b[39m\u001b[38;5;124mMime type rendering requires ipython but it is not installed\u001b[39m\u001b[38;5;124m\"\u001b[39m\n\u001b[0;32m    391\u001b[0m         )\n\u001b[0;32m    393\u001b[0m     \u001b[38;5;28;01mif\u001b[39;00m \u001b[38;5;129;01mnot\u001b[39;00m nbformat \u001b[38;5;129;01mor\u001b[39;00m Version(nbformat\u001b[38;5;241m.\u001b[39m__version__) \u001b[38;5;241m<\u001b[39m Version(\u001b[38;5;124m\"\u001b[39m\u001b[38;5;124m4.2.0\u001b[39m\u001b[38;5;124m\"\u001b[39m):\n\u001b[1;32m--> 394\u001b[0m         \u001b[38;5;28;01mraise\u001b[39;00m \u001b[38;5;167;01mValueError\u001b[39;00m(\n\u001b[0;32m    395\u001b[0m             \u001b[38;5;124m\"\u001b[39m\u001b[38;5;124mMime type rendering requires nbformat>=4.2.0 but it is not installed\u001b[39m\u001b[38;5;124m\"\u001b[39m\n\u001b[0;32m    396\u001b[0m         )\n\u001b[0;32m    398\u001b[0m     ipython_display\u001b[38;5;241m.\u001b[39mdisplay(bundle, raw\u001b[38;5;241m=\u001b[39m\u001b[38;5;28;01mTrue\u001b[39;00m)\n\u001b[0;32m    400\u001b[0m \u001b[38;5;66;03m# external renderers\u001b[39;00m\n",
      "\u001b[1;31mValueError\u001b[0m: Mime type rendering requires nbformat>=4.2.0 but it is not installed"
     ]
    }
   ],
   "source": [
    "import pandas as pd\n",
    "import plotly.express as px\n",
    "import matplotlib.pyplot as plt\n",
    "\n",
    "# Load data (assuming df is already loaded)\n",
    "# df = pd.read_csv(\"your_data.csv\")  # Uncomment if loading from a CSV\n",
    "\n",
    "# Top 10 Movies by Rating and Voting Counts\n",
    "top_10_movies = df.sort_values(by=[\"rating\", \"votes\"], ascending=[False, False]).head(10)\n",
    "print(\"Top 10 Movies by Rating and Voting Counts\")\n",
    "print(top_10_movies[[\"title\", \"rating\", \"votes\"]])\n",
    "\n",
    "# Genre Distribution\n",
    "genre_counts = df['genre'].value_counts()\n",
    "fig_genre = px.bar(genre_counts, x=genre_counts.index, y=genre_counts.values, labels={'x': 'Genre', 'y': 'Count'}, title=\"Movies per Genre\")\n",
    "fig_genre.show()\n",
    "\n",
    "# Average Duration by Genre\n",
    "fig = px.bar(df.groupby(\"genre\")[\"duration\"].mean().sort_values().reset_index(), \n",
    "             x=\"duration\", y=\"genre\", orientation=\"h\")\n",
    "fig.show()\n",
    "\n",
    "# Voting Trends by Genre\n",
    "fig = px.bar(df.groupby(\"genre\")[\"votes\"].mean().sort_values().reset_index(), x=\"genre\", y=\"votes\")\n",
    "fig.show()\n",
    "\n",
    "# Rating Distribution\n",
    "fig = px.histogram(df, x=\"rating\", nbins=20, marginal=\"box\", title=\"Distribution of Ratings\")\n",
    "fig.show()\n",
    "\n",
    "# Top-Rated Movies per Genre\n",
    "top_movies = df.loc[df.groupby(\"genre\")[\"rating\"].idxmax()][[\"genre\", \"title\", \"rating\"]]\n",
    "print(\"Top-Rated Movies per Genre\")\n",
    "print(top_movies)\n",
    "\n",
    "# Most Popular Genres by Voting\n",
    "fig = px.pie(df.groupby(\"genre\")[\"votes\"].sum().reset_index(), names=\"genre\", values=\"votes\")\n",
    "fig.show()\n",
    "\n",
    "# Duration Extremes\n",
    "shortest_movie = df.loc[df[\"duration\"].idxmin()][[\"title\", \"duration\"]]\n",
    "longest_movie = df.loc[df[\"duration\"].idxmax()][[\"title\", \"duration\"]]\n",
    "print(f\"Shortest Movie: {shortest_movie['title']} ({shortest_movie['duration']} min)\")\n",
    "print(f\"Longest Movie: {longest_movie['title']} ({longest_movie['duration']} min)\")\n",
    "\n",
    "# Ratings by Genre (Heatmap)\n",
    "avg_ratings = df.groupby(\"genre\")[\"rating\"].mean().reset_index()\n",
    "fig = px.imshow(avg_ratings.pivot_table(index='genre', values='rating'), labels=dict(color=\"Average Rating\"))\n",
    "fig.show()\n",
    "\n",
    "# Correlation Analysis\n",
    "fig = px.scatter(df, x=\"votes\", y=\"rating\", opacity=0.5, title=\"Correlation between Ratings and Votes\")\n",
    "fig.show()\n"
   ]
  }
 ],
 "metadata": {
  "kernelspec": {
   "display_name": "Python 3",
   "language": "python",
   "name": "python3"
  },
  "language_info": {
   "codemirror_mode": {
    "name": "ipython",
    "version": 3
   },
   "file_extension": ".py",
   "mimetype": "text/x-python",
   "name": "python",
   "nbconvert_exporter": "python",
   "pygments_lexer": "ipython3",
   "version": "3.12.8"
  }
 },
 "nbformat": 4,
 "nbformat_minor": 2
}
